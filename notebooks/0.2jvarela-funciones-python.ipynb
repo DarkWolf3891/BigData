{
 "cells": [
  {
   "cell_type": "markdown",
   "metadata": {},
   "source": [
    "# Funciones en python"
   ]
  },
  {
   "cell_type": "code",
   "execution_count": 2,
   "metadata": {},
   "outputs": [],
   "source": [
    "# funcionf(x,y,z) = x + y + z\n",
    "def f(x, y, z):\n",
    "    resultado = x + y + z\n",
    "    return resultado"
   ]
  },
  {
   "cell_type": "code",
   "execution_count": 4,
   "metadata": {},
   "outputs": [
    {
     "data": {
      "text/plain": [
       "6"
      ]
     },
     "execution_count": 4,
     "metadata": {},
     "output_type": "execute_result"
    }
   ],
   "source": [
    "f(x=1, y=2, z=3)"
   ]
  },
  {
   "cell_type": "markdown",
   "metadata": {},
   "source": [
    "## Pseudo Codigo"
   ]
  },
  {
   "cell_type": "markdown",
   "metadata": {},
   "source": [
    "* pipeline\n",
    "\n",
    "llamadaxxx.csv --> read_data --> get_summary --> save_data --> resumen_llamadasxxx.csv"
   ]
  },
  {
   "cell_type": "code",
   "execution_count": null,
   "metadata": {},
   "outputs": [],
   "source": [
    "#def main():\n",
    "#    get_data()\n",
    "#    get_summary()\n",
    "#    save_data()"
   ]
  },
  {
   "cell_type": "code",
   "execution_count": 7,
   "metadata": {},
   "outputs": [
    {
     "name": "stdout",
     "output_type": "stream",
     "text": [
      "C:\\Users\\jaime\\OneDrive\\Code\\BigData\n"
     ]
    }
   ],
   "source": [
    "import os\n",
    "from pathlib import Path\n",
    "root_dir = Path(\".\").resolve().parent\n",
    "print(root_dir)"
   ]
  },
  {
   "cell_type": "markdown",
   "metadata": {},
   "source": [
    "# mas de funciones"
   ]
  },
  {
   "cell_type": "code",
   "execution_count": null,
   "metadata": {},
   "outputs": [],
   "source": [
    "# funcio que calcule\n",
    "# 1. la suma de todos los numeros de la lista\n",
    "# 2. minimo valor de la lista\n",
    "# 3. maxiomo valor de la lista\n",
    "# 4. la media y la desviacion estandar "
   ]
  },
  {
   "cell_type": "code",
   "execution_count": 49,
   "metadata": {},
   "outputs": [],
   "source": [
    "import numpy as np\n",
    "\n",
    "def calcular_min_max(lista_numeros, verbose=True):\n",
    "    ''' \n",
    "    Retorna los valores minimo y maximo de una lista de numeros\n",
    "    Args:\n",
    "        lista_numeros: type list\n",
    "    '''\n",
    "    \n",
    "    min_value = min(lista_numeros)\n",
    "    max_value = max(lista_numeros)\n",
    "\n",
    "    if verbose == True:\n",
    "        print('Valor minimo:', min_value)\n",
    "        print('Valor maximo:', max_value)\n",
    "    else:\n",
    "        pass\n",
    "    return min_value, max_value\n",
    "\n",
    "def calcular_valores_centrales(lista_numeros, verbose=True):\n",
    "    \"\"\"Calcula la media y la desviacion estandar de una lñista de numeros\n",
    "\n",
    "    Args:\n",
    "        lista_numeros (list): lista con valores numericos\n",
    "        verbose (bool, optional): para decidir si imprimir mensajes en pantalla. Defaults to True.\n",
    "\n",
    "    Returns:\n",
    "        tuple : (media, dev_std)\n",
    "    \"\"\"\n",
    "    media = np.mean(lista_numeros)\n",
    "    dev_std = np.std(lista_numeros)\n",
    "\n",
    "    if verbose == True:\n",
    "        print('Media :', media)\n",
    "        print('Desviacion Estandar :', dev_std)\n",
    "    else:\n",
    "        pass\n",
    "\n",
    "    return media, dev_std\n",
    "\n",
    "\n",
    "def calcular_valores(lista_numeros, verbose):\n",
    "    \"\"\"Retorna una tupla con los valores suma, minimo, maximo, media y dev std\n",
    "\n",
    "    Args:\n",
    "        lista_numeros (_type_): _description_\n",
    "        verbose (_type_): _description_\n",
    "\n",
    "    Returns:\n",
    "        _type_: _description_\n",
    "    \"\"\"\n",
    "    suma = np.sum(lista_numeros)\n",
    "    min_val, max_val = calcular_min_max(lista_numeros, verbose)\n",
    "    media, dev_std = calcular_valores_centrales(lista_numeros)\n",
    "     \n",
    "    return suma, min_val, max_val, media, dev_std\n"
   ]
  },
  {
   "cell_type": "code",
   "execution_count": 32,
   "metadata": {},
   "outputs": [
    {
     "data": {
      "text/plain": [
       "(4, 21)"
      ]
     },
     "execution_count": 32,
     "metadata": {},
     "output_type": "execute_result"
    }
   ],
   "source": [
    "lista_valores = [5, 4, 8, 9, 21]\n",
    "\n",
    "calcular_min_max(lista_numeros = lista_valores, verbose = False)"
   ]
  },
  {
   "cell_type": "code",
   "execution_count": 51,
   "metadata": {},
   "outputs": [
    {
     "name": "stdout",
     "output_type": "stream",
     "text": [
      "Media : 9.4\n",
      "Desviacion Estandar : 6.086049621881176\n"
     ]
    },
    {
     "data": {
      "text/plain": [
       "(47, 4, 21, 9.4, 6.086049621881176)"
      ]
     },
     "execution_count": 51,
     "metadata": {},
     "output_type": "execute_result"
    }
   ],
   "source": [
    "calcular_valores(lista_valores, False)"
   ]
  }
 ],
 "metadata": {
  "kernelspec": {
   "display_name": "Python 3.9.12 ('base')",
   "language": "python",
   "name": "python3"
  },
  "language_info": {
   "codemirror_mode": {
    "name": "ipython",
    "version": 3
   },
   "file_extension": ".py",
   "mimetype": "text/x-python",
   "name": "python",
   "nbconvert_exporter": "python",
   "pygments_lexer": "ipython3",
   "version": "3.9.12"
  },
  "orig_nbformat": 4,
  "vscode": {
   "interpreter": {
    "hash": "71b9d87f2fd5b5aef9cbb0b73a40c78c4a0e77a2d7dfc47c1cede138549bfeac"
   }
  }
 },
 "nbformat": 4,
 "nbformat_minor": 2
}
